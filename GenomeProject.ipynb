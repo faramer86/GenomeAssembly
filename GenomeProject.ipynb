{
 "cells": [
  {
   "cell_type": "markdown",
   "metadata": {},
   "source": [
    "# Genome assembly project"
   ]
  },
  {
   "cell_type": "code",
   "execution_count": 1,
   "metadata": {},
   "outputs": [],
   "source": [
    "import pandas as pd\n",
    "from Bio import SeqIO\n",
    "import numpy as np\n",
    "import seaborn as sns\n",
    "import matplotlib.pyplot as plt\n",
    "from scipy import stats\n",
    "\n",
    "sns.set(color_codes=True)"
   ]
  },
  {
   "cell_type": "code",
   "execution_count": 2,
   "metadata": {},
   "outputs": [],
   "source": [
    "genome = pd.read_csv('/home/nikita/Documents/work/git_projects/GenomeAssembly/data/text.txt', sep = '\\n')"
   ]
  },
  {
   "cell_type": "code",
   "execution_count": 3,
   "metadata": {},
   "outputs": [],
   "source": [
    "def give_character_content_1(genome, alphabet):\n",
    "    content = {'S':0, 'T':0, 'O':0, 'I':0, 'B':0, 'N':0}\n",
    "    for index, read in genome.iterrows():\n",
    "        read = read.values[0]\n",
    "        for latter in alphabet:\n",
    "            tmp = read.count(latter)/len(read)\n",
    "            content[latter] += tmp\n",
    "    content = {key:round(value/20087, 3) for key, value in content.items()}\n",
    "    return content"
   ]
  },
  {
   "cell_type": "code",
   "execution_count": 4,
   "metadata": {},
   "outputs": [],
   "source": [
    "def give_character_content_2(genome, alphabet):\n",
    "    freq = {'S':0, 'T':0, 'O':0, 'I':0, 'B':0, 'N':0}\n",
    "    content = str()\n",
    "    for index, read in genome.iterrows():\n",
    "        read = read.values[0]\n",
    "        content += read\n",
    "    for latter in alphabet:\n",
    "        value = content.count(latter)/len(content)\n",
    "        freq[latter] = value\n",
    "    return freq\n",
    "    "
   ]
  },
  {
   "cell_type": "code",
   "execution_count": 5,
   "metadata": {},
   "outputs": [
    {
     "data": {
      "text/plain": [
       "'OIB'"
      ]
     },
     "execution_count": 5,
     "metadata": {},
     "output_type": "execute_result"
    }
   ],
   "source": [
    "# S = B\n",
    "# N = I\n",
    "# T = O (repeats)\n",
    "\n",
    "def reverse_compliment(string):\n",
    "    charg = {'S':'B', 'N':'I', 'T':'O',\n",
    "             'B':'S', 'I':'N', 'O':'T'}\n",
    "    rev_compl = ''.join(reversed(list(map(lambda latter: charg[latter], string))))\n",
    "    return rev_compl\n",
    "    \n",
    "reverse_compliment('SNT')"
   ]
  },
  {
   "cell_type": "code",
   "execution_count": 6,
   "metadata": {},
   "outputs": [],
   "source": [
    "def find_rev_compl(genome):\n",
    "    result = list()\n",
    "    content = str()\n",
    "    for index, read in genome.iterrows():\n",
    "        content += read.values[0]\n",
    "    for index, read in genome.iterrows():\n",
    "        read = reverse_compliment(read.values[0][50:-50])\n",
    "        if content.find(read) != -1:\n",
    "            print(content.find(read))\n",
    "        \n"
   ]
  },
  {
   "cell_type": "code",
   "execution_count": 7,
   "metadata": {},
   "outputs": [
    {
     "name": "stdout",
     "output_type": "stream",
     "text": [
      "Alphabet is the following: {'T', 'S', 'O', 'B', 'I', 'N'}\n"
     ]
    }
   ],
   "source": [
    "print('Alphabet is the following: ' + str(set(genome.loc[4].values[0].strip())))"
   ]
  },
  {
   "cell_type": "code",
   "execution_count": 8,
   "metadata": {},
   "outputs": [],
   "source": [
    "alphabet = {'S', 'T', 'O', 'I', 'B', 'N'}\n",
    "n = 20087"
   ]
  },
  {
   "cell_type": "code",
   "execution_count": 9,
   "metadata": {},
   "outputs": [
    {
     "name": "stdout",
     "output_type": "stream",
     "text": [
      "{'S': 0.163, 'T': 0.178, 'O': 0.156, 'I': 0.17, 'B': 0.163, 'N': 0.169}\n",
      "{'S': 0.1633294920289853, 'T': 0.1781902478281364, 'O': 0.15637730958305396, 'I': 0.16984501176144617, 'B': 0.163297062355151, 'N': 0.16896087644322716}\n"
     ]
    }
   ],
   "source": [
    "print(give_character_content_1(genome, alphabet)) \n",
    "print(give_character_content_2(genome, alphabet))\n",
    "# S = B\n",
    "# N = I\n",
    "# T = O (repeats)"
   ]
  },
  {
   "cell_type": "code",
   "execution_count": 10,
   "metadata": {},
   "outputs": [
    {
     "name": "stdout",
     "output_type": "stream",
     "text": [
      "{'Min': 110, 'Max': 200, 'number of reads': 20087, 'length': 3515299}\n"
     ]
    }
   ],
   "source": [
    "sizes = [len(read.values[0].strip()) for index, read in genome.iterrows()]\n",
    "summary = {'Min':min(sizes), 'Max':max(sizes), 'number of reads':len(sizes), 'length':sum(sizes)}\n",
    "print(summary)"
   ]
  },
  {
   "cell_type": "code",
   "execution_count": 11,
   "metadata": {},
   "outputs": [
    {
     "name": "stdout",
     "output_type": "stream",
     "text": [
      "175.00368397471001\n"
     ]
    }
   ],
   "source": [
    "print(sum(sizes)/len(sizes))"
   ]
  },
  {
   "cell_type": "code",
   "execution_count": 12,
   "metadata": {},
   "outputs": [
    {
     "data": {
      "text/plain": [
       "<matplotlib.axes._subplots.AxesSubplot at 0x7fb13c9cc908>"
      ]
     },
     "execution_count": 12,
     "metadata": {},
     "output_type": "execute_result"
    },
    {
     "data": {
      "image/png": "[encoded data removed]",
      "text/plain": [
       "<Figure size 432x288 with 1 Axes>"
      ]
     },
     "metadata": {
      "needs_background": "light"
     },
     "output_type": "display_data"
    }
   ],
   "source": [
    "sns.distplot(sizes)"
   ]
  },
  {
   "cell_type": "markdown",
   "metadata": {},
   "source": [
    "### Question:\n",
    "1) Are they pair-end reads or not?"
   ]
  },
  {
   "cell_type": "markdown",
   "metadata": {},
   "source": [
    "2) What is average Chargaff rule bias?\n",
    "\n",
    "1.5%\n",
    "\n",
    "3) If we chose k=9, then we in most of the cases will have only two variants... interesting."
   ]
  },
  {
   "cell_type": "markdown",
   "metadata": {},
   "source": [
    "3) de Brujn"
   ]
  },
  {
   "cell_type": "code",
   "execution_count": 13,
   "metadata": {},
   "outputs": [
    {
     "ename": "NameError",
     "evalue": "name 'reads' is not defined",
     "output_type": "error",
     "traceback": [
      "\u001b[0;31m---------------------------------------------------------------------------\u001b[0m",
      "\u001b[0;31mNameError\u001b[0m                                 Traceback (most recent call last)",
      "\u001b[0;32m<ipython-input-13-1ceafd8fff64>\u001b[0m in \u001b[0;36m<module>\u001b[0;34m\u001b[0m\n\u001b[1;32m     28\u001b[0m \u001b[0;31m# In[5]:\u001b[0m\u001b[0;34m\u001b[0m\u001b[0;34m\u001b[0m\u001b[0;34m\u001b[0m\u001b[0m\n\u001b[1;32m     29\u001b[0m \u001b[0;34m\u001b[0m\u001b[0m\n\u001b[0;32m---> 30\u001b[0;31m \u001b[0mG\u001b[0m \u001b[0;34m=\u001b[0m \u001b[0mdebruijnize\u001b[0m\u001b[0;34m(\u001b[0m\u001b[0mreads\u001b[0m\u001b[0;34m)\u001b[0m\u001b[0;34m\u001b[0m\u001b[0;34m\u001b[0m\u001b[0m\n\u001b[0m\u001b[1;32m     31\u001b[0m \u001b[0mprint\u001b[0m\u001b[0;34m(\u001b[0m\u001b[0mG\u001b[0m\u001b[0;34m)\u001b[0m\u001b[0;34m\u001b[0m\u001b[0;34m\u001b[0m\u001b[0m\n\u001b[1;32m     32\u001b[0m \u001b[0;34m\u001b[0m\u001b[0m\n",
      "\u001b[0;31mNameError\u001b[0m: name 'reads' is not defined"
     ]
    }
   ],
   "source": [
    "# coding: utf-8\n",
    "\n",
    "# In[2]:\n",
    "\n",
    "def debruijnize(reads):\n",
    "    nodes = set()\n",
    "    not_starts = set()\n",
    "    edges = []\n",
    "    for r in reads:\n",
    "        r1 = r[:-1]\n",
    "        r2 = r[1:]\n",
    "        nodes.add(r1)\n",
    "        nodes.add(r2)\n",
    "        edges.append((r1,r2))\n",
    "        not_starts.add(r2)\n",
    "    return (nodes,edges,list(nodes-not_starts))\n",
    "\n",
    "# In[3]:\n",
    "\n",
    "def build_k_mer(str,k):\n",
    "    return [str[i:k+i] for i in range(0,len(str)-k+1)]\n",
    "\n",
    "# In[4]:\n",
    "\n",
    "# reads = build_k_mer(\"ATCGTTGCGCGACCG\",4)\n",
    "# print(reads)\n",
    "\n",
    "# In[5]:\n",
    "\n",
    "G = debruijnize(reads)\n",
    "print(G)\n",
    "\n",
    "# In[6]:\n",
    "\n",
    "def make_node_edge_map(edges):\n",
    "    node_edge_map = {}\n",
    "    for e in edges:\n",
    "        n = e[0]\n",
    "        if n in node_edge_map:\n",
    "            node_edge_map[n].append(e[1])\n",
    "        else:\n",
    "            node_edge_map[n] = [e[1]]\n",
    "    return node_edge_map\n",
    "\n",
    "m = make_node_edge_map(G[1])\n",
    "print(m)\n",
    "\n",
    "# In[8]:\n",
    "\n",
    "\n",
    "def assemble_trail(trail):\n",
    "    if len(trail) == 0:\n",
    "        return \"\"\n",
    "    result = trail[0][:-1]\n",
    "    for node in trail:\n",
    "        result += node[-1]\n",
    "    return result\n",
    "\n",
    "assemble_trail(t)\n",
    "\n",
    "# In[12]:\n",
    "\n",
    "def test_assembly_debruijn(t,k):\n",
    "    reads = build_k_mer(t,k)\n",
    "    G = debruijnize(reads)\n",
    "    v = visualize_debruijn(G)\n",
    "    nemap = make_node_edge_map(G[1])\n",
    "    #print(G)\n",
    "    #print(v)\n",
    "    start = next(iter(G[2])) if (len(G[2]) > 0) else next(iter(G[0]))\n",
    "    trail = eulerian_trail(nemap,start)\n",
    "    return assemble_trail(trail)"
   ]
  },
  {
   "cell_type": "markdown",
   "metadata": {},
   "source": [
    "# Assembled"
   ]
  },
  {
   "cell_type": "code",
   "execution_count": 18,
   "metadata": {},
   "outputs": [],
   "source": [
    "import pandas as pd\n",
    "import re"
   ]
  },
  {
   "cell_type": "code",
   "execution_count": 19,
   "metadata": {},
   "outputs": [],
   "source": [
    "# Тут у нас хранятся три хромосомы/генома/сборки\n",
    "# Наверное, следует их анализировать по отдельности\n",
    "\n",
    "all_genomes = list()\n",
    "\n",
    "with open('/home/nikita/Documents/work/git_projects/GenomeAssembly/data/assembled.txt', 'r') as assemble:\n",
    "    for genome in assemble:\n",
    "        all_genomes.append(genome)\n",
    "        "
   ]
  },
  {
   "cell_type": "code",
   "execution_count": 20,
   "metadata": {},
   "outputs": [
    {
     "data": {
      "text/plain": [
       "6"
      ]
     },
     "execution_count": 20,
     "metadata": {},
     "output_type": "execute_result"
    }
   ],
   "source": [
    "len(all_genomes) # Всего у нас шесть строк в списке"
   ]
  },
  {
   "cell_type": "code",
   "execution_count": 73,
   "metadata": {},
   "outputs": [
    {
     "name": "stdout",
     "output_type": "stream",
     "text": [
      "300454\n",
      "300454\n",
      "402937\n",
      "402937\n",
      "300001\n",
      "300000\n"
     ]
    }
   ],
   "source": [
    "# Вероятно, это прясая и обратная цепь\n",
    "print(len(all_genomes[0]))\n",
    "print(len(all_genomes[1]))\n",
    "print(len(all_genomes[2]))\n",
    "print(len(all_genomes[3]))\n",
    "print(len(all_genomes[4]))\n",
    "print(len(all_genomes[5]))"
   ]
  },
  {
   "cell_type": "code",
   "execution_count": 21,
   "metadata": {},
   "outputs": [
    {
     "name": "stdout",
     "output_type": "stream",
     "text": [
      "{'S': 0.15469922184427568, 'T': 0.17780425622557863, 'O': 0.15239604065847018, 'I': 0.1611028643319776, 'B': 0.17614676456296138, 'N': 0.17784752408022525}\n",
      "{'S': 0.17614676456296138, 'T': 0.17784752408022525, 'O': 0.15239604065847018, 'I': 0.17780425622557863, 'B': 0.15469922184427568, 'N': 0.1611028643319776}\n",
      "{'S': 0.14659611800355887, 'T': 0.18206816450214303, 'O': 0.16082663046580484, 'I': 0.1640901679418867, 'B': 0.16884029016943095, 'N': 0.1775761471396273}\n",
      "{'S': 0.16884029016943095, 'T': 0.1775761471396273, 'O': 0.16082663046580484, 'I': 0.18206816450214303, 'B': 0.14659611800355887, 'N': 0.1640901679418867}\n",
      "{'S': 0.16001279995733347, 'T': 0.1764327452241826, 'O': 0.15459281802393993, 'I': 0.15491615027949907, 'B': 0.17749274169086102, 'N': 0.17654941150196166}\n",
      "{'S': 0.17749333333333334, 'T': 0.17655, 'O': 0.15459333333333333, 'I': 0.17643333333333333, 'B': 0.16001333333333334, 'N': 0.15491666666666667}\n"
     ]
    }
   ],
   "source": [
    "# Посмотрим на частоту нуклеотидов на разных цепях\n",
    "def give_character_content_str(genome):\n",
    "    freq = {'S':0, 'T':0, 'O':0, 'I':0, 'B':0, 'N':0}\n",
    "    for latter in alphabet:\n",
    "        value = genome.count(latter)/len(genome)\n",
    "        freq[latter] = value\n",
    "    return freq\n",
    "\n",
    "print(give_character_content_str(all_genomes[0]))\n",
    "print(give_character_content_str(all_genomes[1]))\n",
    "print(give_character_content_str(all_genomes[2]))\n",
    "print(give_character_content_str(all_genomes[3]))\n",
    "print(give_character_content_str(all_genomes[4]))\n",
    "print(give_character_content_str(all_genomes[5]))"
   ]
  },
  {
   "cell_type": "code",
   "execution_count": 22,
   "metadata": {},
   "outputs": [],
   "source": [
    "# Генерит к-меры из строки\n",
    "# Нужна для поиска мотивов + по к-мерам будем выявлять комплиментарность\n",
    "def build_k_mer(str,k):\n",
    "    return [str[i:k+i] for i in range(0,len(str)-k+1)]"
   ]
  },
  {
   "cell_type": "markdown",
   "metadata": {},
   "source": [
    "## Genome 1"
   ]
  },
  {
   "cell_type": "markdown",
   "metadata": {},
   "source": [
    "### Forward "
   ]
  },
  {
   "cell_type": "code",
   "execution_count": 354,
   "metadata": {},
   "outputs": [],
   "source": [
    "# Все к-меры в геноме с окном = 5\n",
    "\n",
    "k_mers = build_k_mer(all_genomes[1], 5)"
   ]
  },
  {
   "cell_type": "code",
   "execution_count": 355,
   "metadata": {},
   "outputs": [],
   "source": [
    "# Почему k=5?\n",
    "# Чтобы ответить на этот вопрос, построим графичек, где k=3...10\n",
    "# И где наибольшие различия между первым и вторым\n",
    "# Но нужно нормализовать, ибо более короткие будут возникать чаще"
   ]
  },
  {
   "cell_type": "code",
   "execution_count": 384,
   "metadata": {},
   "outputs": [],
   "source": [
    "kmers_comparison = list()\n",
    "\n",
    "for k in range(3, 11):\n",
    "    k_mers = build_k_mer(all_genomes[5], k)\n",
    "    distr = dict()\n",
    "    for k_mer in k_mers:\n",
    "        if k_mer not in distr:\n",
    "            distr[k_mer] = 1\n",
    "        else:\n",
    "            distr[k_mer] += 1\n",
    "    listofTuples = sorted(distr.items(), key=lambda x: x[1])\n",
    "    s = sum([x[1] for x in listofTuples[-40:-1]])\n",
    "    kmers_comparison.append((k, listofTuples[-1][1]/s))\n",
    "    "
   ]
  },
  {
   "cell_type": "code",
   "execution_count": 385,
   "metadata": {},
   "outputs": [
    {
     "data": {
      "text/plain": [
       "<matplotlib.axes._subplots.AxesSubplot at 0x7fb1359208d0>"
      ]
     },
     "execution_count": 385,
     "metadata": {},
     "output_type": "execute_result"
    },
    {
     "data": {
      "image/png": "[encoded data removed]",
      "text/plain": [
       "<Figure size 842.4x595.44 with 1 Axes>"
      ]
     },
     "metadata": {},
     "output_type": "display_data"
    }
   ],
   "source": [
    "x = [i[0] for i in kmers_comparison]\n",
    "y = [i[1] for i in kmers_comparison]\n",
    "sns.lineplot(x=x, y=y)\n",
    "# Поэтому 5-меры для данного генома наиболее информативны"
   ]
  },
  {
   "cell_type": "code",
   "execution_count": 359,
   "metadata": {},
   "outputs": [],
   "source": [
    "# Вернемся к нашим баранам. Мы определились с окном. к = 5\n",
    "k_mers = build_k_mer(all_genomes[1], 5)\n",
    "distr = dict()\n",
    "for k_mer in k_mers:\n",
    "    if k_mer not in distr:\n",
    "        distr[k_mer] = 1\n",
    "    else:\n",
    "        distr[k_mer] += 1"
   ]
  },
  {
   "cell_type": "code",
   "execution_count": 360,
   "metadata": {},
   "outputs": [],
   "source": [
    "# Сортируем по количеству вхождений\n",
    "listofTuples = sorted(distr.items(), key=lambda x: x[1])"
   ]
  },
  {
   "cell_type": "code",
   "execution_count": 361,
   "metadata": {},
   "outputs": [],
   "source": [
    "# Now, lets calculate p_value and figure out how many motifs do we have\n",
    "\n",
    "# Calculate pval for each kmer in list\n",
    "distr_values = list(map(lambda x: x[1], listofTuples))\n",
    "p_val_distr = list()\n",
    "for i in distr_values:\n",
    "    new_list = list(map(lambda x: x if x >= i else 'nan', distr_values))\n",
    "    p_val = len([x for x in new_list if str(x) != 'nan'])/len(distr_values)\n",
    "    p_val_distr.append(p_val)"
   ]
  },
  {
   "cell_type": "code",
   "execution_count": 363,
   "metadata": {},
   "outputs": [
    {
     "data": {
      "text/plain": [
       "[0.005271955767005272,\n",
       " 0.0050147871930050145,\n",
       " 0.0050147871930050145,\n",
       " 0.004757618619004758,\n",
       " 0.004757618619004758,\n",
       " 0.004757618619004758,\n",
       " 0.004371865758004372,\n",
       " 0.004243281471004243,\n",
       " 0.0041146971840041145,\n",
       " 0.0041146971840041145,\n",
       " 0.0038575286100038576,\n",
       " 0.003728944323003729,\n",
       " 0.0036003600360036,\n",
       " 0.0036003600360036,\n",
       " 0.0036003600360036,\n",
       " 0.0032146071750032146,\n",
       " 0.003086022888003086,\n",
       " 0.003086022888003086,\n",
       " 0.002828854314002829,\n",
       " 0.0027002700270027003,\n",
       " 0.0025716857400025716,\n",
       " 0.0025716857400025716,\n",
       " 0.0023145171660023146,\n",
       " 0.0023145171660023146,\n",
       " 0.0020573485920020573,\n",
       " 0.0019287643050019288,\n",
       " 0.0019287643050019288,\n",
       " 0.0016715957310016716,\n",
       " 0.001543011444001543,\n",
       " 0.0014144271570014145,\n",
       " 0.0012858428700012858,\n",
       " 0.0011572585830011573,\n",
       " 0.0010286742960010286,\n",
       " 0.0009000900090009,\n",
       " 0.0007715057220007715,\n",
       " 0.0006429214350006429,\n",
       " 0.0005143371480005143,\n",
       " 0.00038575286100038574,\n",
       " 0.00025716857400025716]"
      ]
     },
     "execution_count": 363,
     "metadata": {},
     "output_type": "execute_result"
    }
   ],
   "source": [
    "# Now lets see how many kmers a lower than 0.05\n",
    "p_val_distr[-40:-1]\n",
    "# Approximately 37-40"
   ]
  },
  {
   "cell_type": "code",
   "execution_count": 364,
   "metadata": {},
   "outputs": [
    {
     "data": {
      "text/plain": [
       "[('TBOOI', 88),\n",
       " ('OONNN', 88),\n",
       " ('NNBNB', 88),\n",
       " ('TNTSB', 89),\n",
       " ('NBNNN', 90),\n",
       " ('IITBO', 91),\n",
       " ('IITST', 91),\n",
       " ('ONTNT', 93),\n",
       " ('NNNBN', 94),\n",
       " ('OIIIO', 95),\n",
       " ('IIISI', 95),\n",
       " ('BNNNN', 95),\n",
       " ('OIIIN', 96),\n",
       " ('NNNNN', 99),\n",
       " ('BNOII', 99),\n",
       " ('TITBO', 102),\n",
       " ('IIITS', 106),\n",
       " ('BNTNT', 108),\n",
       " ('OIIIB', 108),\n",
       " ('INOII', 112),\n",
       " ('INTNT', 112),\n",
       " ('SNOII', 113),\n",
       " ('OIIII', 115),\n",
       " ('TNTSN', 115),\n",
       " ('TNOII', 116),\n",
       " ('NNTNT', 121),\n",
       " ('TNTNT', 126),\n",
       " ('SNTNT', 128),\n",
       " ('OIIIS', 129),\n",
       " ('TNTSS', 139),\n",
       " ('TNTST', 140),\n",
       " ('OIIIT', 149),\n",
       " ('TNTSI', 151),\n",
       " ('BIOII', 194),\n",
       " ('ITBOO', 269),\n",
       " ('NOIII', 451)]"
      ]
     },
     "execution_count": 364,
     "metadata": {},
     "output_type": "execute_result"
    }
   ],
   "source": [
    "# Т.е. около сорока к-меров потенциально неслучайно собрались.\n",
    "# Вот они:\n",
    "listofTuples[-37:-1]"
   ]
  },
  {
   "cell_type": "code",
   "execution_count": 249,
   "metadata": {},
   "outputs": [],
   "source": [
    "# При этом они не то чтобы очень перекрываются\n",
    "# А если исходя из частоты возникновения н/д. посмотреть кто из перечисленных имеет наименьшую вероятность собраться\n",
    "# с имеющимся набором нд-ов\n",
    "# {'S': 0.15469922184427568, \n",
    "# 'T': 0.17780425622557863, \n",
    "# 'O': 0.15239604065847018, \n",
    "# 'I': 0.1611028643319776, \n",
    "# 'B': 0.17614676456296138, \n",
    "# 'N': 0.17784752408022525}"
   ]
  },
  {
   "cell_type": "code",
   "execution_count": 256,
   "metadata": {},
   "outputs": [],
   "source": [
    "# Для каждого из 37-ми мотивов смотрим, какова вероятность собраться таким составом\n",
    "# Возможно, нам это что-то скажет\n",
    "\n",
    "from functools import reduce\n",
    "distr_kmers = [i[0] for i in listofTuples[-37:-1]]\n",
    "freq = {'S': 0.15469922184427568, 'T': 0.17780425622557863, 'O': 0.15239604065847018, 'I': 0.1611028643319776, 'B': 0.17614676456296138, 'N': 0.17784752408022525}\n",
    "result = list()\n",
    "for i in distr_kmers:\n",
    "    res_freq = list()\n",
    "    for j in i:\n",
    "        res_freq.append(float(freq[j]))\n",
    "    multiply = reduce(lambda x, y: x*y, res_freq)\n",
    "    result.append((i, multiply))\n",
    "    "
   ]
  },
  {
   "cell_type": "code",
   "execution_count": 257,
   "metadata": {},
   "outputs": [],
   "source": [
    "result.sort(key=lambda tup:tup[1])"
   ]
  },
  {
   "cell_type": "code",
   "execution_count": 270,
   "metadata": {},
   "outputs": [
    {
     "data": {
      "text/plain": [
       "34.13527952135412"
      ]
     },
     "execution_count": 270,
     "metadata": {},
     "output_type": "execute_result"
    }
   ],
   "source": [
    "len(all_genomes[0]) * 0.0001136123317424768"
   ]
  },
  {
   "cell_type": "code",
   "execution_count": 271,
   "metadata": {},
   "outputs": [
    {
     "data": {
      "text/plain": [
       "41.46497372279367"
      ]
     },
     "execution_count": 271,
     "metadata": {},
     "output_type": "execute_result"
    }
   ],
   "source": [
    "len(all_genomes[0]) * 0.00013800772738187435"
   ]
  },
  {
   "cell_type": "code",
   "execution_count": 258,
   "metadata": {},
   "outputs": [
    {
     "data": {
      "text/plain": [
       "[('IIIOO', 9.710847946399747e-05),\n",
       " ('SISII', 0.00010006588585499018),\n",
       " ('IIISI', 0.00010420802794588949),\n",
       " ('IIIIS', 0.00010420802794588949),\n",
       " ('ISIII', 0.0001042080279458895),\n",
       " ('IIIII', 0.00010852163047962208),\n",
       " ('OOSNT', 0.0001136123317424768),\n",
       " ('TOOSN', 0.00011361233174247681),\n",
       " ('TTOIS', 0.0001200741112034278),\n",
       " ('NINIO', 0.00012510534214676386),\n",
       " ('NINIS', 0.0001269960754560493),\n",
       " ('OTTTO', 0.00013054908316174825),\n",
       " ('NINII', 0.00013225296980151914),\n",
       " ('STTTO', 0.00013252208843710274),\n",
       " ('TTOTS', 0.00013252208843710274),\n",
       " ('OSNTT', 0.0001325543370827858),\n",
       " ('OSNTN', 0.00013258659357602969),\n",
       " ('TTOIB', 0.0001367212190475519),\n",
       " ('ITTTO', 0.00013800772738187435),\n",
       " ('TTOIT', 0.00013800772738187435),\n",
       " ('TTTOI', 0.00013800772738187435),\n",
       " ('TTOIN', 0.0001380413109327703),\n",
       " ('SBNIN', 0.0001388550594462431),\n",
       " ('NINIB', 0.00014460284633037763),\n",
       " ('IBNIN', 0.00014460284633037766),\n",
       " ('NINIT', 0.00014596351856740675),\n",
       " ('NININ', 0.00014599903812379504),\n",
       " ('BTTTO', 0.00015089498727291785),\n",
       " ('TTTTO', 0.00015231486679188688),\n",
       " ('NTTTO', 0.00015235193191989204),\n",
       " ('BBNIN', 0.0001581059631267851),\n",
       " ('TBNIN', 0.00015959369590656626),\n",
       " ('NBNIN', 0.00015963253230443205),\n",
       " ('TBTTT', 0.00017605293985528564),\n",
       " ('BNTTT', 0.00017609578153508274),\n",
       " ('NBNTT', 0.00017613863364020712)]"
      ]
     },
     "execution_count": 258,
     "metadata": {},
     "output_type": "execute_result"
    }
   ],
   "source": [
    "result"
   ]
  },
  {
   "cell_type": "code",
   "execution_count": 365,
   "metadata": {},
   "outputs": [
    {
     "data": {
      "text/plain": [
       "<matplotlib.axes._subplots.AxesSubplot at 0x7fb137374278>"
      ]
     },
     "execution_count": 365,
     "metadata": {},
     "output_type": "execute_result"
    },
    {
     "data": {
      "image/png": "[encoded data removed]",
      "text/plain": [
       "<Figure size 842.4x595.44 with 1 Axes>"
      ]
     },
     "metadata": {},
     "output_type": "display_data"
    }
   ],
   "source": [
    "sns.set(rc={'figure.figsize':(11.7,8.27)})\n",
    "sns.distplot(distr_values)"
   ]
  },
  {
   "cell_type": "code",
   "execution_count": 27,
   "metadata": {},
   "outputs": [],
   "source": [
    "# Теперь, давайте сосредоточимся только на этих двух к-мерах:\n",
    "# 'OOSNT', 269\n",
    "# 'TTTOI', 451"
   ]
  },
  {
   "cell_type": "code",
   "execution_count": null,
   "metadata": {},
   "outputs": [],
   "source": [
    "# Что мы можем сделать с этими мотивами?\n",
    "# 1) Посторить Consensus sequence\n",
    "# 2) Посмотреть окружение\n",
    "# 3) Можно попытаться скластеризовать к-меры. Хз, как."
   ]
  },
  {
   "cell_type": "code",
   "execution_count": 302,
   "metadata": {},
   "outputs": [],
   "source": [
    "# Строим pLogo plot, но в виде barplot-а\n",
    "pattern = '[STOBIN][STOBIN]TTTOI[STOBIN][STOBIN]'\n",
    "maps = re.findall(pattern, all_genomes[0])\n",
    "freq = {\n",
    "    '0':{'S':0,'T':0,'O':0,'B':0,'I':0,'N':0},\n",
    "    '1':{'S':0,'T':0,'O':0,'B':0,'I':0,'N':0},\n",
    "    '-2':{'S':0,'T':0,'O':0,'B':0,'I':0,'N':0},\n",
    "    '-1':{'S':0,'T':0,'O':0,'B':0,'I':0,'N':0},\n",
    "}"
   ]
  },
  {
   "cell_type": "code",
   "execution_count": 303,
   "metadata": {},
   "outputs": [],
   "source": [
    "for kmer in maps:\n",
    "    for i in (0,1,-2,-1):\n",
    "        freq[str(i)][kmer[i]] += 1"
   ]
  },
  {
   "cell_type": "code",
   "execution_count": 304,
   "metadata": {},
   "outputs": [
    {
     "data": {
      "text/plain": [
       "{'0': {'S': 68, 'T': 88, 'O': 71, 'B': 78, 'I': 58, 'N': 88},\n",
       " '1': {'S': 68, 'T': 70, 'O': 64, 'B': 78, 'I': 70, 'N': 101},\n",
       " '-2': {'S': 74, 'T': 80, 'O': 54, 'B': 86, 'I': 62, 'N': 95},\n",
       " '-1': {'S': 78, 'T': 73, 'O': 59, 'B': 92, 'I': 66, 'N': 83}}"
      ]
     },
     "execution_count": 304,
     "metadata": {},
     "output_type": "execute_result"
    }
   ],
   "source": [
    "freq"
   ]
  },
  {
   "cell_type": "code",
   "execution_count": 287,
   "metadata": {},
   "outputs": [],
   "source": [
    "pd.DataFrame.from_dict(freq).to_csv('/home/nikita/Documents/work/git_projects/GenomeAssembly/first/TTTOI_df.tsv', sep='\\t', index=0)"
   ]
  },
  {
   "cell_type": "code",
   "execution_count": null,
   "metadata": {},
   "outputs": [],
   "source": [
    "# Можно посчитать частоту замен внутри мотива"
   ]
  },
  {
   "cell_type": "code",
   "execution_count": null,
   "metadata": {},
   "outputs": [],
   "source": []
  },
  {
   "cell_type": "code",
   "execution_count": null,
   "metadata": {},
   "outputs": [],
   "source": [
    "# Распределение по частоте вхождения мотива в геном"
   ]
  },
  {
   "cell_type": "code",
   "execution_count": 306,
   "metadata": {},
   "outputs": [],
   "source": [
    "def motif_density(genome, step, motif):\n",
    "    density = list()\n",
    "    k = step\n",
    "    try:\n",
    "        for i in range(0,len(genome)+1,step):\n",
    "            window = genome[i:k+1]\n",
    "            n = len(re.findall(motif, window))\n",
    "            if n != 0:\n",
    "                density.append(len(re.findall(motif, window)))\n",
    "            k += step\n",
    "    except:\n",
    "        return density\n",
    "    return density"
   ]
  },
  {
   "cell_type": "code",
   "execution_count": 305,
   "metadata": {},
   "outputs": [
    {
     "data": {
      "text/plain": [
       "300454"
      ]
     },
     "execution_count": 305,
     "metadata": {},
     "output_type": "execute_result"
    }
   ],
   "source": [
    "len(all_genomes[0])"
   ]
  },
  {
   "cell_type": "code",
   "execution_count": 373,
   "metadata": {},
   "outputs": [
    {
     "data": {
      "text/plain": [
       "[4, 8, 2, 89, 98, 100, 93, 53, 3, 1]"
      ]
     },
     "execution_count": 373,
     "metadata": {},
     "output_type": "execute_result"
    }
   ],
   "source": [
    "first = motif_density(all_genomes[1], 30100, 'NOIII')\n",
    "motif_density(all_genomes[1], 30100, 'NOIII')"
   ]
  },
  {
   "cell_type": "code",
   "execution_count": 374,
   "metadata": {},
   "outputs": [
    {
     "data": {
      "text/plain": [
       "[94, 97, 26, 3, 1, 5, 3, 3, 1, 36]"
      ]
     },
     "execution_count": 374,
     "metadata": {},
     "output_type": "execute_result"
    }
   ],
   "source": [
    "second = motif_density(all_genomes[1], 30100, 'ITBOO')\n",
    "motif_density(all_genomes[1], 30100, 'ITBOO')"
   ]
  },
  {
   "cell_type": "code",
   "execution_count": 377,
   "metadata": {},
   "outputs": [
    {
     "data": {
      "text/plain": [
       "[91, 49, 1, 1, 2, 4, 2, 3, 3, 38]"
      ]
     },
     "execution_count": 377,
     "metadata": {},
     "output_type": "execute_result"
    }
   ],
   "source": [
    "third = motif_density(all_genomes[1], 30100, 'BIOII')\n",
    "motif_density(all_genomes[1], 30100, 'BIOII')"
   ]
  },
  {
   "cell_type": "code",
   "execution_count": 336,
   "metadata": {},
   "outputs": [],
   "source": [
    "y = [i for i in range(1,11)]"
   ]
  },
  {
   "cell_type": "code",
   "execution_count": 344,
   "metadata": {},
   "outputs": [],
   "source": [
    "from collections import OrderedDict\n",
    "df = OrderedDict([ ('window', y),\n",
    "          ('first', first),\n",
    "          ('second',  second),\n",
    "          ('third', third)])"
   ]
  },
  {
   "cell_type": "code",
   "execution_count": 351,
   "metadata": {},
   "outputs": [
    {
     "data": {
      "text/html": [
       "<div>\n",
       "<style scoped>\n",
       "    .dataframe tbody tr th:only-of-type {\n",
       "        vertical-align: middle;\n",
       "    }\n",
       "\n",
       "    .dataframe tbody tr th {\n",
       "        vertical-align: top;\n",
       "    }\n",
       "\n",
       "    .dataframe thead th {\n",
       "        text-align: right;\n",
       "    }\n",
       "</style>\n",
       "<table border=\"1\" class=\"dataframe\">\n",
       "  <thead>\n",
       "    <tr style=\"text-align: right;\">\n",
       "      <th></th>\n",
       "      <th>window</th>\n",
       "      <th>Kmer_number</th>\n",
       "      <th>Count</th>\n",
       "    </tr>\n",
       "  </thead>\n",
       "  <tbody>\n",
       "    <tr>\n",
       "      <th>0</th>\n",
       "      <td>1</td>\n",
       "      <td>first</td>\n",
       "      <td>96</td>\n",
       "    </tr>\n",
       "    <tr>\n",
       "      <th>1</th>\n",
       "      <td>2</td>\n",
       "      <td>first</td>\n",
       "      <td>99</td>\n",
       "    </tr>\n",
       "    <tr>\n",
       "      <th>2</th>\n",
       "      <td>3</td>\n",
       "      <td>first</td>\n",
       "      <td>46</td>\n",
       "    </tr>\n",
       "    <tr>\n",
       "      <th>3</th>\n",
       "      <td>4</td>\n",
       "      <td>first</td>\n",
       "      <td>4</td>\n",
       "    </tr>\n",
       "    <tr>\n",
       "      <th>4</th>\n",
       "      <td>5</td>\n",
       "      <td>first</td>\n",
       "      <td>7</td>\n",
       "    </tr>\n",
       "    <tr>\n",
       "      <th>5</th>\n",
       "      <td>6</td>\n",
       "      <td>first</td>\n",
       "      <td>2</td>\n",
       "    </tr>\n",
       "    <tr>\n",
       "      <th>6</th>\n",
       "      <td>7</td>\n",
       "      <td>first</td>\n",
       "      <td>2</td>\n",
       "    </tr>\n",
       "    <tr>\n",
       "      <th>7</th>\n",
       "      <td>8</td>\n",
       "      <td>first</td>\n",
       "      <td>6</td>\n",
       "    </tr>\n",
       "    <tr>\n",
       "      <th>8</th>\n",
       "      <td>9</td>\n",
       "      <td>first</td>\n",
       "      <td>87</td>\n",
       "    </tr>\n",
       "    <tr>\n",
       "      <th>9</th>\n",
       "      <td>10</td>\n",
       "      <td>first</td>\n",
       "      <td>102</td>\n",
       "    </tr>\n",
       "    <tr>\n",
       "      <th>10</th>\n",
       "      <td>1</td>\n",
       "      <td>second</td>\n",
       "      <td>4</td>\n",
       "    </tr>\n",
       "    <tr>\n",
       "      <th>11</th>\n",
       "      <td>2</td>\n",
       "      <td>second</td>\n",
       "      <td>3</td>\n",
       "    </tr>\n",
       "    <tr>\n",
       "      <th>12</th>\n",
       "      <td>3</td>\n",
       "      <td>second</td>\n",
       "      <td>71</td>\n",
       "    </tr>\n",
       "    <tr>\n",
       "      <th>13</th>\n",
       "      <td>4</td>\n",
       "      <td>second</td>\n",
       "      <td>97</td>\n",
       "    </tr>\n",
       "    <tr>\n",
       "      <th>14</th>\n",
       "      <td>5</td>\n",
       "      <td>second</td>\n",
       "      <td>83</td>\n",
       "    </tr>\n",
       "    <tr>\n",
       "      <th>15</th>\n",
       "      <td>6</td>\n",
       "      <td>second</td>\n",
       "      <td>2</td>\n",
       "    </tr>\n",
       "    <tr>\n",
       "      <th>16</th>\n",
       "      <td>7</td>\n",
       "      <td>second</td>\n",
       "      <td>3</td>\n",
       "    </tr>\n",
       "    <tr>\n",
       "      <th>17</th>\n",
       "      <td>8</td>\n",
       "      <td>second</td>\n",
       "      <td>4</td>\n",
       "    </tr>\n",
       "    <tr>\n",
       "      <th>18</th>\n",
       "      <td>9</td>\n",
       "      <td>second</td>\n",
       "      <td>2</td>\n",
       "    </tr>\n",
       "    <tr>\n",
       "      <th>19</th>\n",
       "      <td>10</td>\n",
       "      <td>second</td>\n",
       "      <td>0</td>\n",
       "    </tr>\n",
       "    <tr>\n",
       "      <th>20</th>\n",
       "      <td>1</td>\n",
       "      <td>third</td>\n",
       "      <td>3</td>\n",
       "    </tr>\n",
       "    <tr>\n",
       "      <th>21</th>\n",
       "      <td>2</td>\n",
       "      <td>third</td>\n",
       "      <td>1</td>\n",
       "    </tr>\n",
       "    <tr>\n",
       "      <th>22</th>\n",
       "      <td>3</td>\n",
       "      <td>third</td>\n",
       "      <td>1</td>\n",
       "    </tr>\n",
       "    <tr>\n",
       "      <th>23</th>\n",
       "      <td>4</td>\n",
       "      <td>third</td>\n",
       "      <td>4</td>\n",
       "    </tr>\n",
       "    <tr>\n",
       "      <th>24</th>\n",
       "      <td>5</td>\n",
       "      <td>third</td>\n",
       "      <td>87</td>\n",
       "    </tr>\n",
       "    <tr>\n",
       "      <th>25</th>\n",
       "      <td>6</td>\n",
       "      <td>third</td>\n",
       "      <td>86</td>\n",
       "    </tr>\n",
       "    <tr>\n",
       "      <th>26</th>\n",
       "      <td>7</td>\n",
       "      <td>third</td>\n",
       "      <td>2</td>\n",
       "    </tr>\n",
       "    <tr>\n",
       "      <th>27</th>\n",
       "      <td>8</td>\n",
       "      <td>third</td>\n",
       "      <td>4</td>\n",
       "    </tr>\n",
       "    <tr>\n",
       "      <th>28</th>\n",
       "      <td>9</td>\n",
       "      <td>third</td>\n",
       "      <td>3</td>\n",
       "    </tr>\n",
       "    <tr>\n",
       "      <th>29</th>\n",
       "      <td>10</td>\n",
       "      <td>third</td>\n",
       "      <td>3</td>\n",
       "    </tr>\n",
       "  </tbody>\n",
       "</table>\n",
       "</div>"
      ],
      "text/plain": [
       "    window Kmer_number  Count\n",
       "0        1       first     96\n",
       "1        2       first     99\n",
       "2        3       first     46\n",
       "3        4       first      4\n",
       "4        5       first      7\n",
       "5        6       first      2\n",
       "6        7       first      2\n",
       "7        8       first      6\n",
       "8        9       first     87\n",
       "9       10       first    102\n",
       "10       1      second      4\n",
       "11       2      second      3\n",
       "12       3      second     71\n",
       "13       4      second     97\n",
       "14       5      second     83\n",
       "15       6      second      2\n",
       "16       7      second      3\n",
       "17       8      second      4\n",
       "18       9      second      2\n",
       "19      10      second      0\n",
       "20       1       third      3\n",
       "21       2       third      1\n",
       "22       3       third      1\n",
       "23       4       third      4\n",
       "24       5       third     87\n",
       "25       6       third     86\n",
       "26       7       third      2\n",
       "27       8       third      4\n",
       "28       9       third      3\n",
       "29      10       third      3"
      ]
     },
     "execution_count": 351,
     "metadata": {},
     "output_type": "execute_result"
    }
   ],
   "source": [
    "kmers_df = pd.DataFrame.from_dict(df)\n",
    "kmers_df = pd.melt(kmers_df, id_vars=['window'],\n",
    "                   value_vars=['first', 'second', 'third'],\n",
    "                   var_name='Kmer_number',\n",
    "                   value_name='Count')\n",
    "kmers_df"
   ]
  },
  {
   "cell_type": "code",
   "execution_count": 353,
   "metadata": {},
   "outputs": [
    {
     "data": {
      "image/png": "[encoded data removed]",
      "text/plain": [
       "<Figure size 842.4x595.44 with 1 Axes>"
      ]
     },
     "metadata": {},
     "output_type": "display_data"
    }
   ],
   "source": [
    "ax = sns.lineplot(x=\"window\", y=\"Count\", hue=\"Kmer_number\", data=kmers_df)"
   ]
  },
  {
   "cell_type": "code",
   "execution_count": null,
   "metadata": {},
   "outputs": [],
   "source": [
    "# Надо посмотреть на комплиментарной цепи и другие геномы"
   ]
  }
 ],
 "metadata": {
  "kernelspec": {
   "display_name": "Python 3",
   "language": "python",
   "name": "python3"
  },
  "language_info": {
   "codemirror_mode": {
    "name": "ipython",
    "version": 3
   },
   "file_extension": ".py",
   "mimetype": "text/x-python",
   "name": "python",
   "nbconvert_exporter": "python",
   "pygments_lexer": "ipython3",
   "version": "3.6.8"
  }
 },
 "nbformat": 4,
 "nbformat_minor": 2
}
