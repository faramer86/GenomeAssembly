{
 "cells": [
  {
   "cell_type": "markdown",
   "metadata": {},
   "source": [
    "# Genome assembly project"
   ]
  },
  {
   "cell_type": "code",
   "execution_count": 53,
   "metadata": {},
   "outputs": [],
   "source": [
    "import pandas as pd\n",
    "from Bio import SeqIO\n",
    "import numpy as np\n",
    "import seaborn as sns\n",
    "import matplotlib.pyplot as plt\n",
    "from scipy import stats\n",
    "\n",
    "sns.set(color_codes=True)"
   ]
  },
  {
   "cell_type": "code",
   "execution_count": 54,
   "metadata": {},
   "outputs": [],
   "source": [
    "genome = pd.read_csv('/home/nikita/Downloads/text.txt', sep = '\\n')"
   ]
  },
  {
   "cell_type": "code",
   "execution_count": 55,
   "metadata": {},
   "outputs": [],
   "source": [
    "def give_character_content_1(genome, alphabet):\n",
    "    content = {'S':0, 'T':0, 'O':0, 'I':0, 'B':0, 'N':0}\n",
    "    for index, read in genome.iterrows():\n",
    "        read = read.values[0]\n",
    "        for latter in alphabet:\n",
    "            tmp = read.count(latter)/len(read)\n",
    "            content[latter] += tmp\n",
    "    content = {key:round(value/20087, 3) for key, value in content.items()}\n",
    "    return content"
   ]
  },
  {
   "cell_type": "code",
   "execution_count": 56,
   "metadata": {},
   "outputs": [],
   "source": [
    "def give_character_content_2(genome, alphabet):\n",
    "    freq = {'S':0, 'T':0, 'O':0, 'I':0, 'B':0, 'N':0}\n",
    "    content = str()\n",
    "    for index, read in genome.iterrows():\n",
    "        read = read.values[0]\n",
    "        content += read\n",
    "    for latter in alphabet:\n",
    "        value = content.count(latter)/len(content)\n",
    "        freq[latter] = value\n",
    "    return freq\n",
    "    "
   ]
  },
  {
   "cell_type": "code",
   "execution_count": 57,
   "metadata": {},
   "outputs": [
    {
     "data": {
      "text/plain": [
       "'OIB'"
      ]
     },
     "execution_count": 57,
     "metadata": {},
     "output_type": "execute_result"
    }
   ],
   "source": [
    "# S = B\n",
    "# N = I\n",
    "# T = O (repeats)\n",
    "\n",
    "def reverse_compliment(string):\n",
    "    charg = {'S':'B', 'N':'I', 'T':'O',\n",
    "             'B':'S', 'I':'N', 'O':'T'}\n",
    "    rev_compl = ''.join(reversed(list(map(lambda latter: charg[latter], string))))\n",
    "    return rev_compl\n",
    "    \n",
    "reverse_compliment('SNT')"
   ]
  },
  {
   "cell_type": "code",
   "execution_count": 76,
   "metadata": {},
   "outputs": [],
   "source": [
    "def find_rev_compl(genome):\n",
    "    result = list()\n",
    "    content = str()\n",
    "    for index, read in genome.iterrows():\n",
    "        content += read.values[0]\n",
    "    for index, read in genome.iterrows():\n",
    "        read = reverse_compliment(read.values[0][50:-50])\n",
    "        if content.find(read) != -1:\n",
    "            print(content.find(read))\n",
    "        \n"
   ]
  },
  {
   "cell_type": "code",
   "execution_count": 59,
   "metadata": {},
   "outputs": [
    {
     "name": "stdout",
     "output_type": "stream",
     "text": [
      "Alphabet is the following: {'B', 'T', 'I', 'S', 'O', 'N'}\n"
     ]
    }
   ],
   "source": [
    "print('Alphabet is the following: ' + str(set(genome.loc[4].values[0].strip())))"
   ]
  },
  {
   "cell_type": "code",
   "execution_count": 60,
   "metadata": {},
   "outputs": [],
   "source": [
    "alphabet = {'S', 'T', 'O', 'I', 'B', 'N'}\n",
    "n = 20087"
   ]
  },
  {
   "cell_type": "code",
   "execution_count": 61,
   "metadata": {},
   "outputs": [
    {
     "name": "stdout",
     "output_type": "stream",
     "text": [
      "{'S': 0.163, 'T': 0.178, 'O': 0.156, 'I': 0.17, 'B': 0.163, 'N': 0.169}\n",
      "{'S': 0.1633294920289853, 'T': 0.1781902478281364, 'O': 0.15637730958305396, 'I': 0.16984501176144617, 'B': 0.163297062355151, 'N': 0.16896087644322716}\n"
     ]
    }
   ],
   "source": [
    "print(give_character_content_1(genome, alphabet)) \n",
    "print(give_character_content_2(genome, alphabet))\n",
    "# S = B\n",
    "# N = I\n",
    "# T = O (repeats)"
   ]
  },
  {
   "cell_type": "code",
   "execution_count": 62,
   "metadata": {},
   "outputs": [
    {
     "name": "stdout",
     "output_type": "stream",
     "text": [
      "{'Min': 110, 'Max': 200, 'number of reads': 20087, 'length': 3515299}\n"
     ]
    }
   ],
   "source": [
    "sizes = [len(read.values[0].strip()) for index, read in genome.iterrows()]\n",
    "summary = {'Min':min(sizes), 'Max':max(sizes), 'number of reads':len(sizes), 'length':sum(sizes)}\n",
    "print(summary)"
   ]
  },
  {
   "cell_type": "code",
   "execution_count": 63,
   "metadata": {},
   "outputs": [
    {
     "name": "stdout",
     "output_type": "stream",
     "text": [
      "175.00368397471001\n"
     ]
    }
   ],
   "source": [
    "print(sum(sizes)/len(sizes))"
   ]
  },
  {
   "cell_type": "code",
   "execution_count": 64,
   "metadata": {},
   "outputs": [
    {
     "name": "stderr",
     "output_type": "stream",
     "text": [
      "/usr/local/lib/python3.6/dist-packages/matplotlib/axes/_axes.py:6571: UserWarning: The 'normed' kwarg is deprecated, and has been replaced by the 'density' kwarg.\n",
      "  warnings.warn(\"The 'normed' kwarg is deprecated, and has been \"\n"
     ]
    },
    {
     "data": {
      "text/plain": [
       "<matplotlib.axes._subplots.AxesSubplot at 0x7fc58b12a6d8>"
      ]
     },
     "execution_count": 64,
     "metadata": {},
     "output_type": "execute_result"
    },
    {
     "data": {
      "image/png": "[encoded data removed]",
      "text/plain": [
       "<Figure size 432x288 with 1 Axes>"
      ]
     },
     "metadata": {},
     "output_type": "display_data"
    }
   ],
   "source": [
    "sns.distplot(sizes)"
   ]
  },
  {
   "cell_type": "markdown",
   "metadata": {},
   "source": [
    "### Question:\n",
    "1) Are they pair-end reads or not?"
   ]
  },
  {
   "cell_type": "code",
   "execution_count": 77,
   "metadata": {},
   "outputs": [],
   "source": [
    "find_rev_compl(genome) # No"
   ]
  },
  {
   "cell_type": "code",
   "execution_count": 66,
   "metadata": {},
   "outputs": [
    {
     "ename": "NameError",
     "evalue": "name 'in_dna' is not defined",
     "output_type": "error",
     "traceback": [
      "\u001b[0;31m---------------------------------------------------------------------------\u001b[0m",
      "\u001b[0;31mNameError\u001b[0m                                 Traceback (most recent call last)",
      "\u001b[0;32m<ipython-input-66-63d7c978c119>\u001b[0m in \u001b[0;36m<module>\u001b[0;34m\u001b[0m\n\u001b[1;32m      1\u001b[0m \u001b[0;31m# K-mers\u001b[0m\u001b[0;34m\u001b[0m\u001b[0;34m\u001b[0m\u001b[0;34m\u001b[0m\u001b[0m\n\u001b[0;32m----> 2\u001b[0;31m \u001b[0mdnas\u001b[0m \u001b[0;34m=\u001b[0m \u001b[0;34m[\u001b[0m\u001b[0min_dna\u001b[0m\u001b[0;34m[\u001b[0m\u001b[0mi\u001b[0m\u001b[0;34m:\u001b[0m\u001b[0mi\u001b[0m\u001b[0;34m+\u001b[0m\u001b[0mk\u001b[0m\u001b[0;34m]\u001b[0m \u001b[0;32mfor\u001b[0m \u001b[0mi\u001b[0m \u001b[0;32min\u001b[0m \u001b[0mrange\u001b[0m\u001b[0;34m(\u001b[0m\u001b[0;36m0\u001b[0m\u001b[0;34m,\u001b[0m \u001b[0mlen\u001b[0m\u001b[0;34m(\u001b[0m\u001b[0min_dna\u001b[0m\u001b[0;34m)\u001b[0m\u001b[0;34m)\u001b[0m \u001b[0;32mif\u001b[0m \u001b[0mlen\u001b[0m\u001b[0;34m(\u001b[0m\u001b[0min_dna\u001b[0m\u001b[0;34m[\u001b[0m\u001b[0mi\u001b[0m\u001b[0;34m:\u001b[0m\u001b[0mi\u001b[0m\u001b[0;34m+\u001b[0m\u001b[0mk\u001b[0m\u001b[0;34m]\u001b[0m\u001b[0;34m)\u001b[0m\u001b[0;34m==\u001b[0m\u001b[0mk\u001b[0m\u001b[0;34m]\u001b[0m\u001b[0;34m\u001b[0m\u001b[0;34m\u001b[0m\u001b[0m\n\u001b[0m",
      "\u001b[0;31mNameError\u001b[0m: name 'in_dna' is not defined"
     ]
    }
   ],
   "source": [
    "# K-mers\n",
    "dnas = [in_dna[i:i+k] for i in range(0, len(in_dna)) if len(in_dna[i:i+k])==k]"
   ]
  },
  {
   "cell_type": "markdown",
   "metadata": {},
   "source": [
    "2) What is average Chargaff rule bias?\n",
    "\n",
    "1.5%\n",
    "\n",
    "3) If we chose k=9, then we in most of the cases will have only two variants... interesting."
   ]
  },
  {
   "cell_type": "markdown",
   "metadata": {},
   "source": [
    "3) de Brujn"
   ]
  },
  {
   "cell_type": "code",
   "execution_count": 82,
   "metadata": {},
   "outputs": [
    {
     "name": "stdout",
     "output_type": "stream",
     "text": [
      "({'CGC', 'CCG', 'TTG', 'GCG', 'ACC', 'CGT', 'ATC', 'TCG', 'GAC', 'TGC', 'GTT', 'CGA'}, [('ATC', 'TCG'), ('TCG', 'CGT'), ('CGT', 'GTT'), ('GTT', 'TTG'), ('TTG', 'TGC'), ('TGC', 'GCG'), ('GCG', 'CGC'), ('CGC', 'GCG'), ('GCG', 'CGA'), ('CGA', 'GAC'), ('GAC', 'ACC'), ('ACC', 'CCG')], ['ATC'])\n",
      "{'ATC': ['TCG'], 'TCG': ['CGT'], 'CGT': ['GTT'], 'GTT': ['TTG'], 'TTG': ['TGC'], 'TGC': ['GCG'], 'GCG': ['CGC', 'CGA'], 'CGC': ['GCG'], 'CGA': ['GAC'], 'GAC': ['ACC'], 'ACC': ['CCG']}\n"
     ]
    }
   ],
   "source": [
    "# coding: utf-8\n",
    "\n",
    "# In[2]:\n",
    "\n",
    "def debruijnize(reads):\n",
    "    nodes = set()\n",
    "    not_starts = set()\n",
    "    edges = []\n",
    "    for r in reads:\n",
    "        r1 = r[:-1]\n",
    "        r2 = r[1:]\n",
    "        nodes.add(r1)\n",
    "        nodes.add(r2)\n",
    "        edges.append((r1,r2))\n",
    "        not_starts.add(r2)\n",
    "    return (nodes,edges,list(nodes-not_starts))\n",
    "\n",
    "# In[3]:\n",
    "\n",
    "def build_k_mer(str,k):\n",
    "    return [str[i:k+i] for i in range(0,len(str)-k+1)]\n",
    "\n",
    "# In[4]:\n",
    "\n",
    "# reads = build_k_mer(\"ATCGTTGCGCGACCG\",4)\n",
    "# print(reads)\n",
    "\n",
    "# In[5]:\n",
    "\n",
    "G = debruijnize(reads)\n",
    "print(G)\n",
    "\n",
    "# In[6]:\n",
    "\n",
    "def make_node_edge_map(edges):\n",
    "    node_edge_map = {}\n",
    "    for e in edges:\n",
    "        n = e[0]\n",
    "        if n in node_edge_map:\n",
    "            node_edge_map[n].append(e[1])\n",
    "        else:\n",
    "            node_edge_map[n] = [e[1]]\n",
    "    return node_edge_map\n",
    "\n",
    "m = make_node_edge_map(G[1])\n",
    "print(m)\n",
    "\n",
    "# In[8]:\n",
    "\n",
    "\n",
    "def assemble_trail(trail):\n",
    "    if len(trail) == 0:\n",
    "        return \"\"\n",
    "    result = trail[0][:-1]\n",
    "    for node in trail:\n",
    "        result += node[-1]\n",
    "    return result\n",
    "\n",
    "assemble_trail(t)\n",
    "\n",
    "# In[12]:\n",
    "\n",
    "def test_assembly_debruijn(t,k):\n",
    "    reads = build_k_mer(t,k)\n",
    "    G = debruijnize(reads)\n",
    "    v = visualize_debruijn(G)\n",
    "    nemap = make_node_edge_map(G[1])\n",
    "    #print(G)\n",
    "    #print(v)\n",
    "    start = next(iter(G[2])) if (len(G[2]) > 0) else next(iter(G[0]))\n",
    "    trail = eulerian_trail(nemap,start)\n",
    "    return assemble_trail(trail)"
   ]
  },
  {
   "cell_type": "code",
   "execution_count": 85,
   "metadata": {},
   "outputs": [
    {
     "name": "stdout",
     "output_type": "stream",
     "text": [
      "['INNNI', 'NNNIT', 'NNITT', 'NITTS', 'ITTSS', 'TTSSN', 'TSSNS', 'SSNSO', 'SNSOB', 'NSOBI', 'SOBII', 'OBIII', 'BIIIT', 'IIITN', 'IITNS']\n",
      "['INNNB', 'NNNBT', 'NNBTT', 'NBTTS', 'BTTSO', 'TTSON', 'TSONN', 'SONNS', 'ONNST', 'NNSTO', 'NSTOB', 'STOBI', 'TOBIN', 'OBINN', 'BINNN']\n",
      "['TOBIN', 'OBINN', 'BINNN']\n"
     ]
    },
    {
     "data": {
      "text/plain": [
       "'BINNNBTTSONNSTOBINNNNNNITTSSNSOBIIITNS'"
      ]
     },
     "execution_count": 85,
     "metadata": {},
     "output_type": "execute_result"
    }
   ],
   "source": [
    "test_assembly_debruijn(\"STOBINNNBTTSONNSTOBINNNITTSSNSOBIIITNS\",6)"
   ]
  }
 ],
 "metadata": {
  "kernelspec": {
   "display_name": "Python 3",
   "language": "python",
   "name": "python3"
  },
  "language_info": {
   "codemirror_mode": {
    "name": "ipython",
    "version": 3
   },
   "file_extension": ".py",
   "mimetype": "text/x-python",
   "name": "python",
   "nbconvert_exporter": "python",
   "pygments_lexer": "ipython3",
   "version": "3.6.8"
  }
 },
 "nbformat": 4,
 "nbformat_minor": 2
}
