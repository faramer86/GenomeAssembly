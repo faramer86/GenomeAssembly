{
 "cells": [
  {
   "cell_type": "markdown",
   "metadata": {},
   "source": [
    "# Genome assembly project"
   ]
  },
  {
   "cell_type": "code",
   "execution_count": 1,
   "metadata": {},
   "outputs": [],
   "source": [
    "import pandas as pd\n",
    "from Bio import SeqIO\n",
    "import numpy as np\n",
    "import seaborn as sns\n",
    "import matplotlib.pyplot as plt\n",
    "from scipy import stats\n",
    "\n",
    "sns.set(color_codes=True)"
   ]
  },
  {
   "cell_type": "code",
   "execution_count": 2,
   "metadata": {},
   "outputs": [],
   "source": [
    "genome = pd.read_csv('/home/nikita/Documents/work/git_projects/GenomeAssembly/data/text.txt', sep = '\\n')"
   ]
  },
  {
   "cell_type": "code",
   "execution_count": 3,
   "metadata": {},
   "outputs": [],
   "source": [
    "def give_character_content_1(genome, alphabet):\n",
    "    content = {'S':0, 'T':0, 'O':0, 'I':0, 'B':0, 'N':0}\n",
    "    for index, read in genome.iterrows():\n",
    "        read = read.values[0]\n",
    "        for latter in alphabet:\n",
    "            tmp = read.count(latter)/len(read)\n",
    "            content[latter] += tmp\n",
    "    content = {key:round(value/20087, 3) for key, value in content.items()}\n",
    "    return content"
   ]
  },
  {
   "cell_type": "code",
   "execution_count": 4,
   "metadata": {},
   "outputs": [],
   "source": [
    "def give_character_content_2(genome, alphabet):\n",
    "    freq = {'S':0, 'T':0, 'O':0, 'I':0, 'B':0, 'N':0}\n",
    "    content = str()\n",
    "    for index, read in genome.iterrows():\n",
    "        read = read.values[0]\n",
    "        content += read\n",
    "    for latter in alphabet:\n",
    "        value = content.count(latter)/len(content)\n",
    "        freq[latter] = value\n",
    "    return freq\n",
    "    "
   ]
  },
  {
   "cell_type": "code",
   "execution_count": 5,
   "metadata": {},
   "outputs": [
    {
     "data": {
      "text/plain": [
       "'OIB'"
      ]
     },
     "execution_count": 5,
     "metadata": {},
     "output_type": "execute_result"
    }
   ],
   "source": [
    "# S = B\n",
    "# N = I\n",
    "# T = O (repeats)\n",
    "\n",
    "def reverse_compliment(string):\n",
    "    charg = {'S':'B', 'N':'I', 'T':'O',\n",
    "             'B':'S', 'I':'N', 'O':'T'}\n",
    "    rev_compl = ''.join(reversed(list(map(lambda latter: charg[latter], string))))\n",
    "    return rev_compl\n",
    "    \n",
    "reverse_compliment('SNT')"
   ]
  },
  {
   "cell_type": "code",
   "execution_count": 6,
   "metadata": {},
   "outputs": [],
   "source": [
    "def find_rev_compl(genome):\n",
    "    result = list()\n",
    "    content = str()\n",
    "    for index, read in genome.iterrows():\n",
    "        content += read.values[0]\n",
    "    for index, read in genome.iterrows():\n",
    "        read = reverse_compliment(read.values[0][50:-50])\n",
    "        if content.find(read) != -1:\n",
    "            print(content.find(read))\n",
    "        \n"
   ]
  },
  {
   "cell_type": "code",
   "execution_count": 7,
   "metadata": {},
   "outputs": [
    {
     "name": "stdout",
     "output_type": "stream",
     "text": [
      "Alphabet is the following: {'T', 'S', 'O', 'B', 'I', 'N'}\n"
     ]
    }
   ],
   "source": [
    "print('Alphabet is the following: ' + str(set(genome.loc[4].values[0].strip())))"
   ]
  },
  {
   "cell_type": "code",
   "execution_count": 8,
   "metadata": {},
   "outputs": [],
   "source": [
    "alphabet = {'S', 'T', 'O', 'I', 'B', 'N'}\n",
    "n = 20087"
   ]
  },
  {
   "cell_type": "code",
   "execution_count": 9,
   "metadata": {},
   "outputs": [
    {
     "name": "stdout",
     "output_type": "stream",
     "text": [
      "{'S': 0.163, 'T': 0.178, 'O': 0.156, 'I': 0.17, 'B': 0.163, 'N': 0.169}\n",
      "{'S': 0.1633294920289853, 'T': 0.1781902478281364, 'O': 0.15637730958305396, 'I': 0.16984501176144617, 'B': 0.163297062355151, 'N': 0.16896087644322716}\n"
     ]
    }
   ],
   "source": [
    "print(give_character_content_1(genome, alphabet)) \n",
    "print(give_character_content_2(genome, alphabet))\n",
    "# S = B\n",
    "# N = I\n",
    "# T = O (repeats)"
   ]
  },
  {
   "cell_type": "code",
   "execution_count": 10,
   "metadata": {},
   "outputs": [
    {
     "name": "stdout",
     "output_type": "stream",
     "text": [
      "{'Min': 110, 'Max': 200, 'number of reads': 20087, 'length': 3515299}\n"
     ]
    }
   ],
   "source": [
    "sizes = [len(read.values[0].strip()) for index, read in genome.iterrows()]\n",
    "summary = {'Min':min(sizes), 'Max':max(sizes), 'number of reads':len(sizes), 'length':sum(sizes)}\n",
    "print(summary)"
   ]
  },
  {
   "cell_type": "code",
   "execution_count": 11,
   "metadata": {},
   "outputs": [
    {
     "name": "stdout",
     "output_type": "stream",
     "text": [
      "175.00368397471001\n"
     ]
    }
   ],
   "source": [
    "print(sum(sizes)/len(sizes))"
   ]
  },
  {
   "cell_type": "code",
   "execution_count": 12,
   "metadata": {},
   "outputs": [
    {
     "data": {
      "text/plain": [
       "<matplotlib.axes._subplots.AxesSubplot at 0x7fb13c9cc908>"
      ]
     },
     "execution_count": 12,
     "metadata": {},
     "output_type": "execute_result"
    },
    {
     "data": {
      "image/png": "[encoded data removed]",
      "text/plain": [
       "<Figure size 432x288 with 1 Axes>"
      ]
     },
     "metadata": {
      "needs_background": "light"
     },
     "output_type": "display_data"
    }
   ],
   "source": [
    "sns.distplot(sizes)"
   ]
  },
  {
   "cell_type": "markdown",
   "metadata": {},
   "source": [
    "### Question:\n",
    "1) Are they pair-end reads or not?"
   ]
  },
  {
   "cell_type": "markdown",
   "metadata": {},
   "source": [
    "2) What is average Chargaff rule bias?\n",
    "\n",
    "1.5%\n",
    "\n",
    "3) If we chose k=9, then we in most of the cases will have only two variants... interesting."
   ]
  },
  {
   "cell_type": "markdown",
   "metadata": {},
   "source": [
    "3) de Brujn"
   ]
  },
  {
   "cell_type": "code",
   "execution_count": 13,
   "metadata": {},
   "outputs": [
    {
     "ename": "NameError",
     "evalue": "name 'reads' is not defined",
     "output_type": "error",
     "traceback": [
      "\u001b[0;31m---------------------------------------------------------------------------\u001b[0m",
      "\u001b[0;31mNameError\u001b[0m                                 Traceback (most recent call last)",
      "\u001b[0;32m<ipython-input-13-1ceafd8fff64>\u001b[0m in \u001b[0;36m<module>\u001b[0;34m\u001b[0m\n\u001b[1;32m     28\u001b[0m \u001b[0;31m# In[5]:\u001b[0m\u001b[0;34m\u001b[0m\u001b[0;34m\u001b[0m\u001b[0;34m\u001b[0m\u001b[0m\n\u001b[1;32m     29\u001b[0m \u001b[0;34m\u001b[0m\u001b[0m\n\u001b[0;32m---> 30\u001b[0;31m \u001b[0mG\u001b[0m \u001b[0;34m=\u001b[0m \u001b[0mdebruijnize\u001b[0m\u001b[0;34m(\u001b[0m\u001b[0mreads\u001b[0m\u001b[0;34m)\u001b[0m\u001b[0;34m\u001b[0m\u001b[0;34m\u001b[0m\u001b[0m\n\u001b[0m\u001b[1;32m     31\u001b[0m \u001b[0mprint\u001b[0m\u001b[0;34m(\u001b[0m\u001b[0mG\u001b[0m\u001b[0;34m)\u001b[0m\u001b[0;34m\u001b[0m\u001b[0;34m\u001b[0m\u001b[0m\n\u001b[1;32m     32\u001b[0m \u001b[0;34m\u001b[0m\u001b[0m\n",
      "\u001b[0;31mNameError\u001b[0m: name 'reads' is not defined"
     ]
    }
   ],
   "source": [
    "# coding: utf-8\n",
    "\n",
    "# In[2]:\n",
    "\n",
    "def debruijnize(reads):\n",
    "    nodes = set()\n",
    "    not_starts = set()\n",
    "    edges = []\n",
    "    for r in reads:\n",
    "        r1 = r[:-1]\n",
    "        r2 = r[1:]\n",
    "        nodes.add(r1)\n",
    "        nodes.add(r2)\n",
    "        edges.append((r1,r2))\n",
    "        not_starts.add(r2)\n",
    "    return (nodes,edges,list(nodes-not_starts))\n",
    "\n",
    "# In[3]:\n",
    "\n",
    "def build_k_mer(str,k):\n",
    "    return [str[i:k+i] for i in range(0,len(str)-k+1)]\n",
    "\n",
    "# In[4]:\n",
    "\n",
    "# reads = build_k_mer(\"ATCGTTGCGCGACCG\",4)\n",
    "# print(reads)\n",
    "\n",
    "# In[5]:\n",
    "\n",
    "G = debruijnize(reads)\n",
    "print(G)\n",
    "\n",
    "# In[6]:\n",
    "\n",
    "def make_node_edge_map(edges):\n",
    "    node_edge_map = {}\n",
    "    for e in edges:\n",
    "        n = e[0]\n",
    "        if n in node_edge_map:\n",
    "            node_edge_map[n].append(e[1])\n",
    "        else:\n",
    "            node_edge_map[n] = [e[1]]\n",
    "    return node_edge_map\n",
    "\n",
    "m = make_node_edge_map(G[1])\n",
    "print(m)\n",
    "\n",
    "# In[8]:\n",
    "\n",
    "\n",
    "def assemble_trail(trail):\n",
    "    if len(trail) == 0:\n",
    "        return \"\"\n",
    "    result = trail[0][:-1]\n",
    "    for node in trail:\n",
    "        result += node[-1]\n",
    "    return result\n",
    "\n",
    "assemble_trail(t)\n",
    "\n",
    "# In[12]:\n",
    "\n",
    "def test_assembly_debruijn(t,k):\n",
    "    reads = build_k_mer(t,k)\n",
    "    G = debruijnize(reads)\n",
    "    v = visualize_debruijn(G)\n",
    "    nemap = make_node_edge_map(G[1])\n",
    "    #print(G)\n",
    "    #print(v)\n",
    "    start = next(iter(G[2])) if (len(G[2]) > 0) else next(iter(G[0]))\n",
    "    trail = eulerian_trail(nemap,start)\n",
    "    return assemble_trail(trail)"
   ]
  },
  {
   "cell_type": "markdown",
   "metadata": {},
   "source": [
    "# Assembled"
   ]
  },
  {
   "cell_type": "code",
   "execution_count": 18,
   "metadata": {},
   "outputs": [],
   "source": [
    "import pandas as pd\n",
    "import re"
   ]
  },
  {
   "cell_type": "code",
   "execution_count": 19,
   "metadata": {},
   "outputs": [],
   "source": [
    "# Тут у нас хранятся три хромосомы/генома/сборки\n",
    "# Наверное, следует их анализировать по отдельности\n",
    "\n",
    "all_genomes = list()\n",
    "\n",
    "with open('/home/nikita/Documents/work/git_projects/GenomeAssembly/data/assembled.txt', 'r') as assemble:\n",
    "    for genome in assemble:\n",
    "        all_genomes.append(genome)\n",
    "        "
   ]
  },
  {
   "cell_type": "code",
   "execution_count": 20,
   "metadata": {},
   "outputs": [
    {
     "data": {
      "text/plain": [
       "6"
      ]
     },
     "execution_count": 20,
     "metadata": {},
     "output_type": "execute_result"
    }
   ],
   "source": [
    "len(all_genomes) # Всего у нас шесть строк в списке"
   ]
  },
  {
   "cell_type": "code",
   "execution_count": 73,
   "metadata": {},
   "outputs": [
    {
     "name": "stdout",
     "output_type": "stream",
     "text": [
      "300454\n",
      "300454\n",
      "402937\n",
      "402937\n",
      "300001\n",
      "300000\n"
     ]
    }
   ],
   "source": [
    "# Вероятно, это прясая и обратная цепь\n",
    "print(len(all_genomes[0]))\n",
    "print(len(all_genomes[1]))\n",
    "print(len(all_genomes[2]))\n",
    "print(len(all_genomes[3]))\n",
    "print(len(all_genomes[4]))\n",
    "print(len(all_genomes[5]))"
   ]
  },
  {
   "cell_type": "code",
   "execution_count": 21,
   "metadata": {},
   "outputs": [
    {
     "name": "stdout",
     "output_type": "stream",
     "text": [
      "{'S': 0.15469922184427568, 'T': 0.17780425622557863, 'O': 0.15239604065847018, 'I': 0.1611028643319776, 'B': 0.17614676456296138, 'N': 0.17784752408022525}\n",
      "{'S': 0.17614676456296138, 'T': 0.17784752408022525, 'O': 0.15239604065847018, 'I': 0.17780425622557863, 'B': 0.15469922184427568, 'N': 0.1611028643319776}\n",
      "{'S': 0.14659611800355887, 'T': 0.18206816450214303, 'O': 0.16082663046580484, 'I': 0.1640901679418867, 'B': 0.16884029016943095, 'N': 0.1775761471396273}\n",
      "{'S': 0.16884029016943095, 'T': 0.1775761471396273, 'O': 0.16082663046580484, 'I': 0.18206816450214303, 'B': 0.14659611800355887, 'N': 0.1640901679418867}\n",
      "{'S': 0.16001279995733347, 'T': 0.1764327452241826, 'O': 0.15459281802393993, 'I': 0.15491615027949907, 'B': 0.17749274169086102, 'N': 0.17654941150196166}\n",
      "{'S': 0.17749333333333334, 'T': 0.17655, 'O': 0.15459333333333333, 'I': 0.17643333333333333, 'B': 0.16001333333333334, 'N': 0.15491666666666667}\n"
     ]
    }
   ],
   "source": [
    "# Посмотрим на частоту нуклеотидов на разных цепях\n",
    "def give_character_content_str(genome):\n",
    "    freq = {'S':0, 'T':0, 'O':0, 'I':0, 'B':0, 'N':0}\n",
    "    for latter in alphabet:\n",
    "        value = genome.count(latter)/len(genome)\n",
    "        freq[latter] = value\n",
    "    return freq\n",
    "\n",
    "print(give_character_content_str(all_genomes[0]))\n",
    "print(give_character_content_str(all_genomes[1]))\n",
    "print(give_character_content_str(all_genomes[2]))\n",
    "print(give_character_content_str(all_genomes[3]))\n",
    "print(give_character_content_str(all_genomes[4]))\n",
    "print(give_character_content_str(all_genomes[5]))"
   ]
  },
  {
   "cell_type": "code",
   "execution_count": 22,
   "metadata": {},
   "outputs": [],
   "source": [
    "# Генерит к-меры из строки\n",
    "# Нужна для поиска мотивов + по к-мерам будем выявлять комплиментарность\n",
    "def build_k_mer(str,k):\n",
    "    return [str[i:k+i] for i in range(0,len(str)-k+1)]"
   ]
  },
  {
   "cell_type": "markdown",
   "metadata": {},
   "source": [
    "## Genome 1"
   ]
  },
  {
   "cell_type": "markdown",
   "metadata": {},
   "source": [
    "### Forward "
   ]
  },
  {
   "cell_type": "code",
   "execution_count": 219,
   "metadata": {},
   "outputs": [],
   "source": [
    "# Все к-меры в геноме с окном = 5\n",
    "\n",
    "k_mers = build_k_mer(all_genomes[0], 3)"
   ]
  },
  {
   "cell_type": "code",
   "execution_count": 213,
   "metadata": {},
   "outputs": [],
   "source": [
    "# Почему k=5?\n",
    "# Чтобы ответить на этот вопрос, построим графичек, где k=3...10\n",
    "# И где наибольшие различия между первым и вторым\n",
    "# Но нужно нормализовать, ибо более короткие будут возникать чаще"
   ]
  },
  {
   "cell_type": "code",
   "execution_count": 230,
   "metadata": {},
   "outputs": [
    {
     "name": "stdout",
     "output_type": "stream",
     "text": [
      "69631\n",
      "15531\n",
      "4755\n",
      "2483\n",
      "773\n",
      "259\n",
      "137\n",
      "94\n"
     ]
    }
   ],
   "source": [
    "kmers_comparison = list()\n",
    "\n",
    "for k in range(3, 11):\n",
    "    k_mers = build_k_mer(all_genomes[0], k)\n",
    "    distr = dict()\n",
    "    for k_mer in k_mers:\n",
    "        if k_mer not in distr:\n",
    "            distr[k_mer] = 1\n",
    "        else:\n",
    "            distr[k_mer] += 1\n",
    "    listofTuples = sorted(distr.items(), key=lambda x: x[1])\n",
    "    s = sum([x[1] for x in listofTuples[-40:-1]])\n",
    "    kmers_comparison.append((k, listofTuples[-1][1]/s))\n",
    "    "
   ]
  },
  {
   "cell_type": "code",
   "execution_count": 234,
   "metadata": {},
   "outputs": [
    {
     "data": {
      "text/plain": [
       "<matplotlib.axes._subplots.AxesSubplot at 0x7fb13529dc88>"
      ]
     },
     "execution_count": 234,
     "metadata": {},
     "output_type": "execute_result"
    },
    {
     "data": {
      "image/png": "[encoded data removed]",
      "text/plain": [
       "<Figure size 842.4x595.44 with 1 Axes>"
      ]
     },
     "metadata": {},
     "output_type": "display_data"
    }
   ],
   "source": [
    "x = [i[0] for i in kmers_comparison]\n",
    "y = [i[1] for i in kmers_comparison]\n",
    "sns.lineplot(x=x, y=y)\n",
    "# Поэтому 5-меры для данного генома наиболее информативны"
   ]
  },
  {
   "cell_type": "code",
   "execution_count": 220,
   "metadata": {},
   "outputs": [],
   "source": [
    "distr = dict()\n",
    "for k_mer in k_mers:\n",
    "    if k_mer not in distr:\n",
    "        distr[k_mer] = 1\n",
    "    else:\n",
    "        distr[k_mer] += 1"
   ]
  },
  {
   "cell_type": "code",
   "execution_count": 221,
   "metadata": {},
   "outputs": [],
   "source": [
    "listofTuples = sorted(distr.items(), key=lambda x: x[1])"
   ]
  },
  {
   "cell_type": "code",
   "execution_count": 222,
   "metadata": {},
   "outputs": [
    {
     "data": {
      "text/plain": [
       "[('TOT', 1535),\n",
       " ('TOI', 1536),\n",
       " ('IIB', 1589),\n",
       " ('SII', 1607),\n",
       " ('OOS', 1631),\n",
       " ('ONB', 1632),\n",
       " ('III', 1634),\n",
       " ('SNT', 1679),\n",
       " ('TNT', 1693),\n",
       " ('INI', 1701),\n",
       " ('TTN', 1742),\n",
       " ('BNN', 1760),\n",
       " ('BNB', 1760),\n",
       " ('TNN', 1768),\n",
       " ('BSN', 1775),\n",
       " ('NNN', 1778),\n",
       " ('BTN', 1784),\n",
       " ('BBB', 1792),\n",
       " ('NNT', 1793),\n",
       " ('TBB', 1796),\n",
       " ('TNB', 1799),\n",
       " ('TBT', 1804),\n",
       " ('NNB', 1805),\n",
       " ('TTB', 1810),\n",
       " ('BTB', 1819),\n",
       " ('BBT', 1832),\n",
       " ('NTN', 1844),\n",
       " ('NBB', 1846),\n",
       " ('NTB', 1856),\n",
       " ('NBT', 1859),\n",
       " ('BNT', 1867),\n",
       " ('BNI', 1893),\n",
       " ('NBN', 1893),\n",
       " ('BBN', 1916),\n",
       " ('TTO', 1923),\n",
       " ('BTT', 1948),\n",
       " ('NTT', 1968),\n",
       " ('TBN', 1971),\n",
       " ('NIN', 1993)]"
      ]
     },
     "execution_count": 222,
     "metadata": {},
     "output_type": "execute_result"
    }
   ],
   "source": [
    "listofTuples[-40:-1]"
   ]
  },
  {
   "cell_type": "code",
   "execution_count": null,
   "metadata": {},
   "outputs": [],
   "source": [
    "distr_values = list(map(lambda x: x[1], listofTuples))\n",
    "p_val_distr = list()\n",
    "for i in distr_values:\n",
    "    new_list = list(map(lambda x: x if x >= i else 'nan', distr_values))\n",
    "    p_val = len([x for x in new_list if str(x) != 'nan'])/len(distr_values)\n",
    "    p_val_distr.append(p_val)"
   ]
  },
  {
   "cell_type": "code",
   "execution_count": 157,
   "metadata": {},
   "outputs": [
    {
     "data": {
      "text/plain": [
       "[0.005271955767005272,\n",
       " 0.0050147871930050145,\n",
       " 0.0050147871930050145,\n",
       " 0.004757618619004758,\n",
       " 0.004757618619004758,\n",
       " 0.004757618619004758,\n",
       " 0.004371865758004372,\n",
       " 0.004243281471004243,\n",
       " 0.0041146971840041145,\n",
       " 0.0041146971840041145,\n",
       " 0.0038575286100038576,\n",
       " 0.003728944323003729,\n",
       " 0.0036003600360036,\n",
       " 0.0036003600360036,\n",
       " 0.0036003600360036,\n",
       " 0.0032146071750032146,\n",
       " 0.003086022888003086,\n",
       " 0.003086022888003086,\n",
       " 0.002828854314002829,\n",
       " 0.0027002700270027003,\n",
       " 0.0025716857400025716,\n",
       " 0.0025716857400025716,\n",
       " 0.0023145171660023146,\n",
       " 0.0023145171660023146,\n",
       " 0.0020573485920020573,\n",
       " 0.0019287643050019288,\n",
       " 0.0019287643050019288,\n",
       " 0.0016715957310016716,\n",
       " 0.001543011444001543,\n",
       " 0.0014144271570014145,\n",
       " 0.0012858428700012858,\n",
       " 0.0011572585830011573,\n",
       " 0.0010286742960010286,\n",
       " 0.0009000900090009,\n",
       " 0.0007715057220007715,\n",
       " 0.0006429214350006429,\n",
       " 0.0005143371480005143,\n",
       " 0.00038575286100038574,\n",
       " 0.00025716857400025716]"
      ]
     },
     "execution_count": 157,
     "metadata": {},
     "output_type": "execute_result"
    }
   ],
   "source": [
    "p_val_distr[-40:-1]\n",
    "# Т.е. около сорока к-меров потенциально неслучайно собрались. \n",
    "# При этом они не то чтобы очень перекрываются\n",
    "# А если исходя из частоты возникновения н/д. посмотреть кто из перечисленных имеет наименьшую вероятность собраться\n",
    "# {'S': 0.15469922184427568, \n",
    "# 'T': 0.17780425622557863, \n",
    "# 'O': 0.15239604065847018, \n",
    "# 'I': 0.1611028643319776, \n",
    "# 'B': 0.17614676456296138, \n",
    "# 'N': 0.17784752408022525}"
   ]
  },
  {
   "cell_type": "code",
   "execution_count": 204,
   "metadata": {},
   "outputs": [],
   "source": [
    "from functools import reduce\n",
    "distr_kmers = [i[0] for i in listofTuples[-40:-1]]\n",
    "freq = {'S': 0.15469922184427568, 'T': 0.17780425622557863, 'O': 0.15239604065847018, 'I': 0.1611028643319776, 'B': 0.17614676456296138, 'N': 0.17784752408022525}\n",
    "result = list()\n",
    "for i in distr_kmers:\n",
    "    res_freq = list()\n",
    "    for j in i:\n",
    "        res_freq.append(float(freq[j]))\n",
    "    multiply = reduce(lambda x, y: x*y, res_freq)\n",
    "    result.append((i, multiply))\n",
    "    "
   ]
  },
  {
   "cell_type": "code",
   "execution_count": 205,
   "metadata": {},
   "outputs": [],
   "source": [
    "result.sort(key=lambda tup:tup[1])"
   ]
  },
  {
   "cell_type": "code",
   "execution_count": 206,
   "metadata": {},
   "outputs": [
    {
     "data": {
      "text/plain": [
       "[('IIOOS', 9.324853577156027e-05),\n",
       " ('IIIOO', 9.710847946399747e-05),\n",
       " ('SISII', 0.00010006588585499018),\n",
       " ('IIISI', 0.00010420802794588949),\n",
       " ('IIIIS', 0.00010420802794588949),\n",
       " ('SIIII', 0.0001042080279458895),\n",
       " ('ISIII', 0.0001042080279458895),\n",
       " ('IIIII', 0.00010852163047962208),\n",
       " ('OOSNT', 0.0001136123317424768),\n",
       " ('TOOSN', 0.00011361233174247681),\n",
       " ('TTOIS', 0.0001200741112034278),\n",
       " ('TTOII', 0.00012504447673603093),\n",
       " ('NINIO', 0.00012510534214676386),\n",
       " ('NINIS', 0.0001269960754560493),\n",
       " ('OTTTO', 0.00013054908316174825),\n",
       " ('NINII', 0.00013225296980151914),\n",
       " ('STTTO', 0.00013252208843710274),\n",
       " ('TTOTS', 0.00013252208843710274),\n",
       " ('OSNTT', 0.0001325543370827858),\n",
       " ('OSNTN', 0.00013258659357602969),\n",
       " ('TTOIB', 0.0001367212190475519),\n",
       " ('ITTTO', 0.00013800772738187435),\n",
       " ('TTOIT', 0.00013800772738187435),\n",
       " ('TTTOI', 0.00013800772738187435),\n",
       " ('TTOIN', 0.0001380413109327703),\n",
       " ('SBNIN', 0.0001388550594462431),\n",
       " ('NINIB', 0.00014460284633037763),\n",
       " ('IBNIN', 0.00014460284633037766),\n",
       " ('NINIT', 0.00014596351856740675),\n",
       " ('NININ', 0.00014599903812379504),\n",
       " ('BTTTO', 0.00015089498727291785),\n",
       " ('TTTTO', 0.00015231486679188688),\n",
       " ('NTTTO', 0.00015235193191989204),\n",
       " ('BBNIN', 0.0001581059631267851),\n",
       " ('TBNIN', 0.00015959369590656626),\n",
       " ('NBNIN', 0.00015963253230443205),\n",
       " ('TBTTT', 0.00017605293985528564),\n",
       " ('BNTTT', 0.00017609578153508274),\n",
       " ('NBNTT', 0.00017613863364020712)]"
      ]
     },
     "execution_count": 206,
     "metadata": {},
     "output_type": "execute_result"
    }
   ],
   "source": [
    "result"
   ]
  },
  {
   "cell_type": "code",
   "execution_count": 208,
   "metadata": {},
   "outputs": [
    {
     "data": {
      "text/plain": [
       "<matplotlib.axes._subplots.AxesSubplot at 0x7fb135052278>"
      ]
     },
     "execution_count": 208,
     "metadata": {},
     "output_type": "execute_result"
    },
    {
     "data": {
      "image/png": "[encoded data removed]",
      "text/plain": [
       "<Figure size 842.4x595.44 with 1 Axes>"
      ]
     },
     "metadata": {},
     "output_type": "display_data"
    }
   ],
   "source": [
    "sns.set(rc={'figure.figsize':(11.7,8.27)})\n",
    "sns.distplot(distr_values)"
   ]
  },
  {
   "cell_type": "code",
   "execution_count": 27,
   "metadata": {},
   "outputs": [],
   "source": [
    "# p-value for each k-mer \n",
    "# mutations frq for k_mer\n",
    "# correlation with next k-mer"
   ]
  },
  {
   "cell_type": "code",
   "execution_count": 28,
   "metadata": {},
   "outputs": [],
   "source": [
    "pattern1 = 'TTTO[STOBN]'\n",
    "pattern2 ='TTT[STIBN]I'\n",
    "pattern3 ='TT[SIOBN]OI'\n",
    "pattern4 ='T[SIOBN]TOI'\n",
    "pattern5 ='[SIOBN]TTOI'"
   ]
  },
  {
   "cell_type": "code",
   "execution_count": 29,
   "metadata": {},
   "outputs": [],
   "source": [
    "freq1 = len(re.findall(pattern1, genome))\n",
    "freq2 = len(re.findall(pattern2, genome))\n",
    "freq3 = len(re.findall(pattern3, genome))\n",
    "freq4 = len(re.findall(pattern4, genome))\n",
    "freq5 = len(re.findall(pattern5, genome))"
   ]
  },
  {
   "cell_type": "code",
   "execution_count": 30,
   "metadata": {},
   "outputs": [
    {
     "name": "stdout",
     "output_type": "stream",
     "text": [
      "0.43237250554323725 0.6784922394678492 0.5898004434589801 0.36807095343680707 0.4789356984478936\n"
     ]
    }
   ],
   "source": [
    "print(freq1/451, freq2/451, freq3/451, freq4/451, freq5/451)"
   ]
  },
  {
   "cell_type": "code",
   "execution_count": 31,
   "metadata": {},
   "outputs": [
    {
     "name": "stdout",
     "output_type": "stream",
     "text": [
      "7\n",
      "10\n",
      "7\n",
      "7\n",
      "4\n"
     ]
    }
   ],
   "source": [
    "# correlation with next character\n",
    "\n",
    "print(len(re.findall('TTTOI[S]', genome)))\n",
    "print(len(re.findall('TTTOI[T]', genome)))\n",
    "print(len(re.findall('TTTOI[O]', genome)))\n",
    "print(len(re.findall('TTTOI[B]', genome)))\n",
    "print(len(re.findall('TTTOI[N]', genome)))"
   ]
  },
  {
   "cell_type": "code",
   "execution_count": 32,
   "metadata": {},
   "outputs": [
    {
     "data": {
      "text/plain": [
       "7.013717421124828"
      ]
     },
     "execution_count": 32,
     "metadata": {},
     "output_type": "execute_result"
    }
   ],
   "source": [
    "1/6 ** 6 * len(listofTuples)"
   ]
  },
  {
   "cell_type": "code",
   "execution_count": 34,
   "metadata": {},
   "outputs": [
    {
     "data": {
      "text/plain": [
       "29"
      ]
     },
     "execution_count": 34,
     "metadata": {},
     "output_type": "execute_result"
    }
   ],
   "source": [
    "def motif_density(genome, step, motif):\n",
    "    density = list()\n",
    "    k = step\n",
    "    try:\n",
    "        for i in range(0,len(genome),step):\n",
    "            window = genome[i:k+1]\n",
    "            n = len(re.findall(motif, window))\n",
    "            if n != 0:\n",
    "                density.append(len(re.findall(motif, window)))\n",
    "            k += step\n",
    "    except:\n",
    "        return density\n",
    "    return density\n",
    "\n",
    "max(motif_density(all_genomes[0], 8000, 'TTTOI'))"
   ]
  },
  {
   "cell_type": "code",
   "execution_count": null,
   "metadata": {},
   "outputs": [],
   "source": []
  },
  {
   "cell_type": "code",
   "execution_count": null,
   "metadata": {},
   "outputs": [],
   "source": []
  },
  {
   "cell_type": "code",
   "execution_count": null,
   "metadata": {},
   "outputs": [],
   "source": []
  },
  {
   "cell_type": "code",
   "execution_count": null,
   "metadata": {},
   "outputs": [],
   "source": []
  }
 ],
 "metadata": {
  "kernelspec": {
   "display_name": "Python 3",
   "language": "python",
   "name": "python3"
  },
  "language_info": {
   "codemirror_mode": {
    "name": "ipython",
    "version": 3
   },
   "file_extension": ".py",
   "mimetype": "text/x-python",
   "name": "python",
   "nbconvert_exporter": "python",
   "pygments_lexer": "ipython3",
   "version": "3.6.8"
  }
 },
 "nbformat": 4,
 "nbformat_minor": 2
}
